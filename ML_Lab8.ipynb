{
  "nbformat": 4,
  "nbformat_minor": 0,
  "metadata": {
    "colab": {
      "provenance": [],
      "include_colab_link": true
    },
    "kernelspec": {
      "name": "python3",
      "display_name": "Python 3"
    },
    "language_info": {
      "name": "python"
    }
  },
  "cells": [
    {
      "cell_type": "markdown",
      "metadata": {
        "id": "view-in-github",
        "colab_type": "text"
      },
      "source": [
        "<a href=\"https://colab.research.google.com/github/BhagyaReddy29/BhagyaReddy29/blob/main/ML_Lab8.ipynb\" target=\"_parent\"><img src=\"https://colab.research.google.com/assets/colab-badge.svg\" alt=\"Open In Colab\"/></a>"
      ]
    },
    {
      "cell_type": "markdown",
      "source": [
        "**K-Nearest Neighbor(KNN) Algorithm**\n",
        "\n",
        "K-Nearest Neighbour is one of the\n",
        "simplest Machine Learning algorithms based on Supervised Learning technique.\n",
        "\n",
        "K-NN algorithm assumes the similarity between the new case/data and available cases and put the new case into the category that is most similar to the available categories.\n",
        "\n",
        "K-NN algorithm stores all the available data and classifies a new data point based on the similarity. This means when new data appears then it can be easily classified into a well suite category by using K- NN algorithm.\n",
        "\n",
        "K-NN algorithm can be used for Regression as well as for Classification but mostly it is used for the Classification problems.\n",
        "\n",
        "K-NN is a non-parametric algorithm, which means it does not make any assumption on underlying data.\n",
        "\n",
        "It is also called a lazy learner algorithm because it does not learn from the training set immediately instead it stores the dataset and at the time of classification, it performs an action on the dataset.\n",
        "\n",
        "KNN algorithm at the training phase just stores the dataset and when it gets new data, then it classifies that data into a category that is much similar to the new data."
      ],
      "metadata": {
        "id": "4L2V31IL8dsS"
      }
    },
    {
      "cell_type": "markdown",
      "source": [
        "**Example:** Suppose, we have an image of a creature that looks similar to cat and dog, but we want to know either it is a cat or dog. So for this identification, we can use the KNN algorithm, as it works on a similarity measure. Our KNN model will find the similar features of the new data set to the cats and dogs images and based on the most similar features it will put it in either cat or dog category."
      ],
      "metadata": {
        "id": "dUlYrJ-e8o6M"
      }
    },
    {
      "cell_type": "markdown",
      "source": [
        "**8.Write a program to implement k-Nearest Neighbor algorithm to classify the iris data set. Print both correct and wrong predictions.**"
      ],
      "metadata": {
        "id": "teE7o9Rx8t0o"
      }
    },
    {
      "cell_type": "code",
      "source": [
        "import numpy as np\n",
        "import pandas as pd\n",
        "import matplotlib.pyplot as plt\n",
        "import seaborn as sns\n",
        "from sklearn.model_selection import train_test_split\n",
        "from sklearn.preprocessing import LabelEncoder\n",
        "from sklearn.neighbors import KNeighborsClassifier\n",
        "from sklearn.metrics import accuracy_score, confusion_matrix, classification_report\n",
        "\n",
        "# Load the dataset into a pandas DataFrame\n",
        "data = pd.read_csv('/content/Iris_Lab8.csv')  # Assuming you have saved the dataset as 'iris.csv'\n",
        "\n",
        "# Split the data into features (X) and target (y)\n",
        "X = data.iloc[:, :-1]  # All columns except the last one (features)\n",
        "y = data.iloc[:, -1]   # Last column (target - species)\n",
        "\n",
        "# Encode the species labels to numerical values\n",
        "label_encoder = LabelEncoder()\n",
        "y_encoded = label_encoder.fit_transform(y)\n",
        "\n",
        "# Split the dataset into training and testing sets (80% train, 20% test)\n",
        "X_train, X_test, y_train, y_test = train_test_split(X, y_encoded, test_size=0.2, random_state=42)\n",
        "\n",
        "# Initialize the k-Nearest Neighbors classifier with k=3\n",
        "knn = KNeighborsClassifier(n_neighbors=3)\n",
        "\n",
        "# Train the model\n",
        "knn.fit(X_train, y_train)\n",
        "\n",
        "# Predict on the test set\n",
        "y_pred = knn.predict(X_test)\n",
        "\n",
        "# Calculate accuracy\n",
        "accuracy = accuracy_score(y_test, y_pred)\n",
        "print(f\"Accuracy: {accuracy * 100:.2f}%\")\n",
        "\n",
        "# Decode the predictions and actual values back to their species names\n",
        "y_pred_labels = label_encoder.inverse_transform(y_pred)\n",
        "y_test_labels = label_encoder.inverse_transform(y_test)\n",
        "\n",
        "# Print correct and wrong predictions\n",
        "print(\"\\nCorrect Predictions:\")\n",
        "for i in range(len(y_test)):\n",
        "    if y_test_labels[i] == y_pred_labels[i]:\n",
        "        print(f\"Predicted: {y_pred_labels[i]}    Actual: {y_test_labels[i]}\")\n",
        "\n",
        "print(\"\\nWrong Predictions:\")\n",
        "for i in range(len(y_test)):\n",
        "    if y_test_labels[i] != y_pred_labels[i]:\n",
        "        print(f\"Predicted: {y_pred_labels[i]}    Actual: {y_test_labels[i]}\")\n",
        "\n",
        "# Classification Report\n",
        "print(\"\\nClassification Report:\")\n",
        "print(classification_report(y_test, y_pred, target_names=label_encoder.classes_))\n",
        "\n"
      ],
      "metadata": {
        "id": "s-SxtNGU8ymN"
      },
      "execution_count": null,
      "outputs": []
    },
    {
      "cell_type": "code",
      "source": [
        "#Confusion Matrix\n",
        "conf_matrix = confusion_matrix(y_test, y_pred)\n",
        "species = label_encoder.classes_\n",
        "\n",
        "# Simplified Confusion Matrix Plotting\n",
        "plt.figure(figsize=(6, 5))\n",
        "sns.heatmap(conf_matrix, annot=True, fmt='d', cmap='Blues', xticklabels=species, yticklabels=species)\n",
        "plt.title('Confusion Matrix')\n",
        "plt.xlabel('Predicted Species')\n",
        "plt.ylabel('Actual Species')\n",
        "plt.tight_layout()\n",
        "plt.show()\n",
        "\n",
        "# Simple Scatter Plot to visualize feature distribution by species\n",
        "plt.figure(figsize=(12, 6))\n",
        "colors = ['red', 'green', 'blue']\n",
        "markers = ['o', 's', 'D']\n",
        "\n",
        "for i, species_name in enumerate(label_encoder.classes_):\n",
        "    plt.scatter(X[y == species_name].iloc[:, 0], X[y == species_name].iloc[:, 1],\n",
        "                color=colors[i], marker=markers[i], label=species_name, alpha=0.7)\n",
        "\n",
        "plt.title('Scatter Plot of Iris Features')\n",
        "plt.xlabel(X.columns[0])  # First feature\n",
        "plt.ylabel(X.columns[1])  # Second feature\n",
        "plt.legend()\n",
        "plt.grid()\n",
        "plt.show()"
      ],
      "metadata": {
        "id": "y4QSlaGZ8zHp"
      },
      "execution_count": null,
      "outputs": []
    }
  ]
}